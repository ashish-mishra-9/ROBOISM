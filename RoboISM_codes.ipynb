{
  "nbformat": 4,
  "nbformat_minor": 0,
  "metadata": {
    "colab": {
      "name": "RoboISM  codes.ipynb",
      "provenance": [],
      "collapsed_sections": [],
      "authorship_tag": "ABX9TyP4DQMVJetYhL0yTsVDPY6d",
      "include_colab_link": true
    },
    "kernelspec": {
      "name": "python3",
      "display_name": "Python 3"
    },
    "language_info": {
      "name": "python"
    }
  },
  "cells": [
    {
      "cell_type": "markdown",
      "metadata": {
        "id": "view-in-github",
        "colab_type": "text"
      },
      "source": [
        "<a href=\"https://colab.research.google.com/github/ashish-mishra-9/ROBOISM/blob/main/RoboISM_codes.ipynb\" target=\"_parent\"><img src=\"https://colab.research.google.com/assets/colab-badge.svg\" alt=\"Open In Colab\"/></a>"
      ]
    },
    {
      "cell_type": "code",
      "source": [
        "# Q1\n",
        "def order(list,choice):\n",
        "    list2=[]\n",
        "    if (choice==\"none\"):\n",
        "        print(list)\n",
        "    elif(choice==\"asc\"):\n",
        "        list.sort()\n",
        "        print(list)\n",
        "    elif(choice==\"desc\"):\n",
        "        for i in range(0,len(list),1):\n",
        "             list.sort()\n",
        "             list2.append(list[len(list)-1-i])\n",
        "        print(list2)\n",
        "list1=[]\n",
        "x=int(input(\"Enter the number of elements you want to enter in the list\\n\"))\n",
        "for i in range(0,x,1):\n",
        "    list1.append(int(input(\"Enter the numbers\")))\n",
        "\n",
        "print(list1)\n",
        "choice=str(input(\"Enter the command asc,none or desc which you want to perform on numbers\\n\"))\n",
        "order (list1,choice)"
      ],
      "metadata": {
        "colab": {
          "base_uri": "https://localhost:8080/"
        },
        "id": "HPd8scMOfIEH",
        "outputId": "03b77a18-00cb-402f-b6ca-cac046642123"
      },
      "execution_count": 11,
      "outputs": [
        {
          "output_type": "stream",
          "name": "stdout",
          "text": [
            "Enter the number of elements you want to enter in the list\n",
            "9\n",
            "Enter the numbers12\n",
            "Enter the numbers4\n",
            "Enter the numbers65\n",
            "Enter the numbers34\n",
            "Enter the numbers23\n",
            "Enter the numbers67\n",
            "Enter the numbers89\n",
            "Enter the numbers9\n",
            "Enter the numbers23\n",
            "[12, 4, 65, 34, 23, 67, 89, 9, 23]\n",
            "Enter the command asc,none or desc which you want to perform on numbers\n",
            "asc\n",
            "[4, 9, 12, 23, 23, 34, 65, 67, 89]\n"
          ]
        }
      ]
    },
    {
      "cell_type": "code",
      "source": [
        "# Q2\n",
        "def card_no(x):\n",
        "    s = ''\n",
        "    for chr in (x[:-4]):\n",
        "        s = s + '*'\n",
        "    s = s + x[-4:]\n",
        "    return s\n",
        "a = input(\"Enter any card number : \")\n",
        "print(card_no(a))"
      ],
      "metadata": {
        "colab": {
          "base_uri": "https://localhost:8080/"
        },
        "id": "miZu0aRZQido",
        "outputId": "5a4168e7-b6e4-4401-d5d7-aad10b2a397e"
      },
      "execution_count": 12,
      "outputs": [
        {
          "output_type": "stream",
          "name": "stdout",
          "text": [
            "Enter any card number : 123457653\n",
            "*****7653\n"
          ]
        }
      ]
    },
    {
      "cell_type": "code",
      "source": [
        "# Q3\n",
        "def calculator(x,y,z):\n",
        "    if y == '+':\n",
        "        return (x+z)\n",
        "    elif y == '-':\n",
        "        return(x-z)\n",
        "    elif y == '*':\n",
        "        return(x*z)\n",
        "    elif y == '/':\n",
        "        return(x/z)\n",
        "x = int(input(\"Enter the first number:\"))\n",
        "z = int(input(\"Enter the second number:\"))\n",
        "y = input(\"Give the operation to be performed: \")\n",
        "calculator(x,y,z)\n"
      ],
      "metadata": {
        "colab": {
          "base_uri": "https://localhost:8080/"
        },
        "id": "4OcWAXtoM0Tv",
        "outputId": "6d63ce4f-2157-4803-8c44-fb61d79a668d"
      },
      "execution_count": 13,
      "outputs": [
        {
          "name": "stdout",
          "output_type": "stream",
          "text": [
            "Enter the first number:12\n",
            "Enter the second number:6\n",
            "Give the operation to be performed: *\n"
          ]
        },
        {
          "output_type": "execute_result",
          "data": {
            "text/plain": [
              "72"
            ]
          },
          "metadata": {},
          "execution_count": 13
        }
      ]
    },
    {
      "cell_type": "code",
      "source": [
        "# Q4\n",
        "def double(string):\n",
        "  for char in string:\n",
        "    print(char*2,end=\"\")\n",
        "string =  input(\"Enter the string\")\n",
        "double(string)"
      ],
      "metadata": {
        "colab": {
          "base_uri": "https://localhost:8080/"
        },
        "id": "0FIbTGnPV7IZ",
        "outputId": "18c34d98-21b6-4d68-9948-383a38ea539e"
      },
      "execution_count": 15,
      "outputs": [
        {
          "output_type": "stream",
          "name": "stdout",
          "text": [
            "Enter the string1!@45th\n",
            "11!!@@4455tthh"
          ]
        }
      ]
    },
    {
      "cell_type": "code",
      "source": [
        "# Q5\n",
        "import random\n",
        "array = []\n",
        "for i in range(100):\n",
        "  number = random.randint(1,99)\n",
        "  array.append(number)\n",
        "  array.sort()\n",
        "print(array)\n",
        "duplicate_elements = []\n",
        "for i in range(len(array)-1):\n",
        "  if array[i]==array[i+1]:\n",
        "   if array[i] not in duplicate_elements:\n",
        "    duplicate_elements.append(array[i])\n",
        "print(\"Duplicate Elements :\")\n",
        "print(duplicate_elements)"
      ],
      "metadata": {
        "colab": {
          "base_uri": "https://localhost:8080/"
        },
        "id": "qYCwVnqVdGe3",
        "outputId": "602e7183-9a45-4ffd-c2d9-221940687e5c"
      },
      "execution_count": 16,
      "outputs": [
        {
          "output_type": "stream",
          "name": "stdout",
          "text": [
            "[1, 2, 2, 5, 5, 6, 6, 7, 7, 8, 8, 8, 11, 14, 14, 15, 15, 17, 18, 18, 19, 19, 22, 26, 26, 26, 27, 27, 27, 27, 28, 29, 29, 32, 33, 33, 34, 36, 37, 37, 39, 40, 42, 42, 44, 44, 45, 48, 48, 49, 51, 51, 52, 53, 55, 61, 62, 63, 63, 63, 64, 65, 65, 68, 70, 72, 74, 74, 75, 75, 75, 76, 78, 78, 79, 79, 79, 80, 80, 82, 84, 85, 87, 87, 88, 88, 88, 90, 91, 92, 94, 94, 97, 97, 97, 98, 98, 99, 99, 99]\n",
            "Duplicate Elements :\n",
            "[2, 5, 6, 7, 8, 14, 15, 18, 19, 26, 27, 29, 33, 37, 42, 44, 48, 51, 63, 65, 74, 75, 78, 79, 80, 87, 88, 94, 97, 98, 99]\n"
          ]
        }
      ]
    },
    {
      "cell_type": "code",
      "source": [
        "# Q6\n",
        "lower_value = int(input (\"Please, Enter the Lowest Range Value: \"))  \n",
        "upper_value = int(input (\"Please, Enter the Upper Range Value: \"))  \n",
        "  \n",
        "print (\"The Prime Numbers in the range are: \")  \n",
        "for number in range (lower_value, upper_value + 1):  \n",
        "    if number > 1:  \n",
        "        for i in range (2, number):  \n",
        "            if (number % i) == 0: \n",
        "               break  \n",
        "        else:  \n",
        "             print (number) "
      ],
      "metadata": {
        "colab": {
          "base_uri": "https://localhost:8080/"
        },
        "id": "eKDNaZ4Ioodq",
        "outputId": "3857fa12-8ade-4150-957d-8ca65b391476"
      },
      "execution_count": 30,
      "outputs": [
        {
          "output_type": "stream",
          "name": "stdout",
          "text": [
            "Please, Enter the Lowest Range Value: 12\n",
            "Please, Enter the Upper Range Value: 19\n",
            "The Prime Numbers in the range are: \n",
            "13\n",
            "17\n",
            "19\n"
          ]
        }
      ]
    },
    {
      "cell_type": "code",
      "source": [
        "# Q7\n",
        "# Program to find most frequent\n",
        "# element in a list\n",
        " \n",
        "def most_frequent(List):\n",
        "    counter = 0\n",
        "    num = List[0]\n",
        "     \n",
        "    for i in List:\n",
        "        curr_frequency = List.count(i)\n",
        "        if(curr_frequency> counter):\n",
        "            counter = curr_frequency\n",
        "            num = i\n",
        " \n",
        "    return num\n",
        " \n",
        "List = []\n",
        "  \n",
        "# number of elements as input\n",
        "n = int(input(\"Enter number of elements : \"))\n",
        "  \n",
        "# iterating till the range\n",
        "for i in range(0, n):\n",
        "    elements = int(input())\n",
        "  \n",
        "    List.append(elements) # adding the element\n",
        "print(\"The most frequent element in the given list is:\")      \n",
        "print(most_frequent(List))"
      ],
      "metadata": {
        "colab": {
          "base_uri": "https://localhost:8080/"
        },
        "id": "iyBNEqeHopJ0",
        "outputId": "f9ee92b4-f441-4f83-8cf4-3c38e5a410d0"
      },
      "execution_count": 32,
      "outputs": [
        {
          "output_type": "stream",
          "name": "stdout",
          "text": [
            "Enter number of elements : 9\n",
            "1\n",
            "2\n",
            "3\n",
            "7\n",
            "7\n",
            "5\n",
            "7\n",
            "5\n",
            "6\n",
            "The most frequent element in the given list is:\n",
            "7\n"
          ]
        }
      ]
    },
    {
      "cell_type": "code",
      "source": [
        "# Q8 \n",
        "a = input(\"Enter any string :\")\n",
        "sum = 0\n",
        "for i in a:\n",
        "    if i.isdigit() == True:\n",
        "        b = int(i)\n",
        "        sum = sum + b\n",
        "print(sum)"
      ],
      "metadata": {
        "colab": {
          "base_uri": "https://localhost:8080/"
        },
        "id": "X3rE-ce1YoUq",
        "outputId": "063ae28e-0a82-4c67-b1e2-aaa5488ca292"
      },
      "execution_count": 33,
      "outputs": [
        {
          "output_type": "stream",
          "name": "stdout",
          "text": [
            "Enter any string :ash9i7sh\n",
            "16\n"
          ]
        }
      ]
    },
    {
      "cell_type": "code",
      "source": [
        "# Q9\n",
        "print(\"Enter the String: \", end=\"\")\n",
        "str = input()\n",
        "\n",
        "str = sorted(str)\n",
        "str = ''.join(str)\n",
        "\n",
        "print(\"\\nSorted String is:\", str)"
      ],
      "metadata": {
        "colab": {
          "base_uri": "https://localhost:8080/"
        },
        "id": "S3fXcE4vuUM0",
        "outputId": "7c38b07c-0b9c-4b0f-838e-0241d6d024e9"
      },
      "execution_count": 24,
      "outputs": [
        {
          "output_type": "stream",
          "name": "stdout",
          "text": [
            "Enter the String: Ashish\n",
            "\n",
            "Sorted String is: Ahhiss\n"
          ]
        }
      ]
    },
    {
      "cell_type": "code",
      "source": [
        "# Q10\n",
        "x = int(input(\"Enter x: \"))\n",
        "y = int(input(\"Enter y: \"))\n",
        "#swap\n",
        "x ^= y\n",
        "y ^= x\n",
        "x ^= y\n",
        "print(\"After swap :\")\n",
        "print(\"x= \",x)\n",
        "print(\"y= \",y)"
      ],
      "metadata": {
        "colab": {
          "base_uri": "https://localhost:8080/"
        },
        "id": "GMN4o5EapGCW",
        "outputId": "766ef6c8-200d-40f2-a48a-3ef2a420c01a"
      },
      "execution_count": 25,
      "outputs": [
        {
          "output_type": "stream",
          "name": "stdout",
          "text": [
            "Enter x: 10\n",
            "Enter y: 9\n",
            "After swap :\n",
            "x=  9\n",
            "y=  10\n"
          ]
        }
      ]
    },
    {
      "cell_type": "code",
      "source": [
        ""
      ],
      "metadata": {
        "id": "AnUE8zXUYMy4"
      },
      "execution_count": null,
      "outputs": []
    }
  ]
}